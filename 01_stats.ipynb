{
 "cells": [
  {
   "cell_type": "markdown",
   "id": "135eb156-af26-4317-92ca-50bcd8911480",
   "metadata": {},
   "source": [
    "Q1. What is Statistics?"
   ]
  },
  {
   "cell_type": "markdown",
   "id": "5fc9a792-0c46-4a44-90cf-ec04940bab3c",
   "metadata": {},
   "source": [
    "Solution : \n",
    "    Statistics is the science of collectting , orgaizing ,and analyzing the data.\n",
    "    Data stands for \"facts\" or \"pieces of information. Statistics helps to make decisions i.e it is a decision making process"
   ]
  },
  {
   "cell_type": "code",
   "execution_count": null,
   "id": "be6b677b-3ff9-4e93-8a14-fe6d0bbdbf64",
   "metadata": {},
   "outputs": [],
   "source": []
  },
  {
   "cell_type": "markdown",
   "id": "6c774324-763f-4d3b-837b-7585b78cb4d2",
   "metadata": {},
   "source": [
    "Q2. Define the different types of statistics and give an example of when each type might be used."
   ]
  },
  {
   "cell_type": "markdown",
   "id": "00c72c9b-77c2-48cb-bdad-d3c728c97a3f",
   "metadata": {},
   "source": [
    "SOLUTION: There are two main types of statistics :\n",
    "    \n",
    "    - Descriptive Statistics\n",
    "    \n",
    "    - Inferential Statistics\n",
    "    \n",
    "    1. Descriptive Statistics: \n",
    "    \n",
    "        It is used to describe the basic features of the data in a study. It \n",
    "        provides simple summaries about the sample and the measures. For \n",
    "        example, if we want to know the  average height of students in a class,\n",
    "        we can use descriptive statistics to calculate the mean height of the \n",
    "        students.\n",
    "        \n",
    "    2. Inferential Statistics:\n",
    "        \n",
    "        It is used to make predictions or generalizations about a population\n",
    "        based on a sample of data. It involves using sample data to infer \n",
    "        something about a population. For example, if we want to know the \n",
    "        average height of all students in a school , we can use inferential \n",
    "        statistics to estimate the population mean height based on a sample\n",
    "        of students"
   ]
  },
  {
   "cell_type": "code",
   "execution_count": null,
   "id": "78ce21cd-0766-4758-aa2c-c2b8345ca487",
   "metadata": {},
   "outputs": [],
   "source": []
  },
  {
   "cell_type": "markdown",
   "id": "a3e466a5-bea1-491f-bf0e-5e3321e90913",
   "metadata": {},
   "source": [
    "Q3. What are the different types of data and how do they differ from each other? Provide an example of\n",
    "each type of data."
   ]
  },
  {
   "cell_type": "markdown",
   "id": "8c14d526-17e7-4e5c-b626-0f25f91b947d",
   "metadata": {},
   "source": [
    "Solution : \n",
    "     \n",
    "     There are two main types of data :\n",
    "     \n",
    "     - Quantitative data\n",
    "     \n",
    "     - Qualitative data\n",
    "     \n",
    "     1. Quantitative data : \n",
    "     \n",
    "     Quantitative data is numerical data that can be measured and quantified. It \n",
    "     can be classified into discrete data and continuous data. Discrete data is \n",
    "     used to count the variables that can only take on certain values . For \n",
    "     example , the number of students in a class. Continuous data is used to\n",
    "     measure variables that can take on any value within a range. For example,\n",
    "     the height of students in a class.\n",
    "     \n",
    "     2. Qualitative data:\n",
    "     \n",
    "     Quakitative data is non-numerical data that describes the characteristics\n",
    "     or attributes of an object or phenomenon. It can be classified into nominal\n",
    "     data and ordinal data. \n",
    "     \n",
    "     Nominal data is used to label variables without any quantitative value.\n",
    "     For example ,colors of cars in a car park.\n",
    "     \n",
    "     Ordinal data is used to label variables with some order or rank. For\n",
    "     example, the grades of students in a class.\n",
    "     "
   ]
  },
  {
   "cell_type": "code",
   "execution_count": null,
   "id": "cda827b6-800c-4593-a8f0-4578fdb8774c",
   "metadata": {},
   "outputs": [],
   "source": []
  },
  {
   "cell_type": "markdown",
   "id": "15cab0ec-d42e-4463-b546-01560acbe442",
   "metadata": {},
   "source": [
    "Q4. Categorise the following datasets with respect to quantitative and qualitative data types:\n",
    "    \n",
    "(i) Grading in exam: A+, A, B+, B, C+, C, D, E\n",
    "\n",
    "(ii) Colour of mangoes: yellow, green, orange, red\n",
    "\n",
    "(iii) Height data of a class: [178.9, 179, 179.5, 176, 177.2, 178.3, 175.8,...]\n",
    "\n",
    "(iv) Number of mangoes exported by a farm: [500, 600, 478, 672, ...]"
   ]
  },
  {
   "cell_type": "markdown",
   "id": "3fa040da-bc08-49d6-b484-cf00c2b18bdd",
   "metadata": {},
   "source": [
    "Solution:"
   ]
  },
  {
   "cell_type": "markdown",
   "id": "d9bab3fc-0af8-4b63-a99c-0d0bcc11f549",
   "metadata": {},
   "source": [
    " 1. Qualitative data(ordinal)\n",
    "    \n",
    " 2. Qualitative data(nominal)\n",
    " \n",
    " 3. Quantitative data(continuous)\n",
    " \n",
    " 4. Quantitative data(continuous)"
   ]
  },
  {
   "cell_type": "code",
   "execution_count": null,
   "id": "4cf158d8-d065-4f40-a987-bb216315b889",
   "metadata": {},
   "outputs": [],
   "source": []
  },
  {
   "cell_type": "markdown",
   "id": "0e664ccc-d43a-458d-8fe4-85a2e0481108",
   "metadata": {},
   "source": [
    "Q5. Explain the concept of levels of measurement and give an example of a variable for each level."
   ]
  },
  {
   "cell_type": "markdown",
   "id": "45c2d059-510c-497c-8f89-2f3d97907d43",
   "metadata": {},
   "source": [
    "Solution :"
   ]
  },
  {
   "cell_type": "markdown",
   "id": "d7fac6c9-71fd-4302-b092-b9b53d792dd6",
   "metadata": {},
   "source": [
    "The level of measurement are used to describe the nature of the variables that are being measured . There are four levels of measurement : Nominal,Ordinal,Interval and Ratio.\n",
    "\n",
    "Nominal level of measurement is used for variables that have no quantitative value but can\n",
    "be categorized. For example,gender,race,religion,etc.\n",
    "\n",
    "Ordinal level of measusrement is used for variables that can be categorized and ranked. For\n",
    "example, the grades of students in a class.\n",
    "\n",
    "\n",
    "Internal level of measurement is used for variables that can be categorized , ranked , and \n",
    "evenly spaced. For example, temperature in Celsius or Fahrenheit , iq measurement.\n",
    "\n",
    "Ratio level of measurement is used for variables that can be categorized , ranked , evenly\n",
    "spaced, and have a natural zero point. For example, weight or height , length of different\n",
    "rivers in the world."
   ]
  },
  {
   "cell_type": "code",
   "execution_count": null,
   "id": "3a246b84-17bc-409f-9a7a-9bb6eee2544b",
   "metadata": {},
   "outputs": [],
   "source": []
  },
  {
   "cell_type": "markdown",
   "id": "0fdf367d-64f4-4730-a0bb-6790ff513459",
   "metadata": {},
   "source": [
    "Q6. Why is it important to understand the level of measurement when analyzing data? Provide an\n",
    "example to illustrate your answer."
   ]
  },
  {
   "cell_type": "markdown",
   "id": "a11bbb27-913f-4bf3-a6e2-a6c010ab95ab",
   "metadata": {},
   "source": [
    "It is important to understand the level of measurement when analyzing data because it determines the type of statistical analysis that can be performed on the data. Different levels of measurement require different types of statistical analysis. For example, nominal data can only be analyzed using frequency counts and percentages, while ratio data can be analyzed using more complex statistical techniques such as regression analysis.\n",
    "\n",
    "An example to illustrate this is if we want to analyze the relationship between height and weight. If we measure height and weight using nominal scales, we can only use frequency counts and percentages to analyze the data. However, if we measure height and weight using ratio scales, we can use more complex statistical techniques such as regression analysis to analyze the data"
   ]
  },
  {
   "cell_type": "code",
   "execution_count": null,
   "id": "3e479910-e54d-4053-9cf4-73ca431f100f",
   "metadata": {},
   "outputs": [],
   "source": []
  },
  {
   "cell_type": "markdown",
   "id": "9bbb7995-1f7f-4d09-bae5-2a40b94afff3",
   "metadata": {},
   "source": [
    "Q7. How nominal data type is different from ordinal data type."
   ]
  },
  {
   "cell_type": "markdown",
   "id": "49a367c6-f106-46a9-90d9-5f4d277b15f8",
   "metadata": {},
   "source": [
    "Solution:"
   ]
  },
  {
   "cell_type": "markdown",
   "id": "13977486-d67f-4b0c-b842-02d3e6142c2c",
   "metadata": {},
   "source": [
    "Nominal data type is different from ordinal data type in that nominal data is used for variables that have no quantitative value but can be categorized. For example, gender, race, religion, etc. Ordinal data is used for variables that can be categorized and ranked. For example, the grades of students in a class."
   ]
  },
  {
   "cell_type": "code",
   "execution_count": null,
   "id": "d6fe11e1-38ca-42ac-af93-3cedccc2c5eb",
   "metadata": {},
   "outputs": [],
   "source": []
  },
  {
   "cell_type": "markdown",
   "id": "2cfad827-e01c-44be-b8c7-2e4b81d14121",
   "metadata": {},
   "source": [
    "Q8. Which type of plot can be used to display data in terms of range?"
   ]
  },
  {
   "cell_type": "markdown",
   "id": "6788e357-3680-452b-8941-c6938e179589",
   "metadata": {},
   "source": [
    "Solution:"
   ]
  },
  {
   "cell_type": "markdown",
   "id": "a7cb9707-f753-40ab-bbf3-8579b2747a52",
   "metadata": {},
   "source": [
    "A range plot can be used to display data in terms of range. A range plot shows exactly two dots on a line and connects them with an extra bold line. It is great if you want to draw attention to the distance between the values more than to the values themselves. You could also call this chart type the gap chart because it’s great for situations where the gap is important (e.g. gender pay gap)"
   ]
  },
  {
   "cell_type": "code",
   "execution_count": null,
   "id": "435563a1-7151-41e2-9055-bfada8ee93a8",
   "metadata": {},
   "outputs": [],
   "source": []
  },
  {
   "cell_type": "markdown",
   "id": "00e7a7c9-dc34-4d46-9946-f714497b559c",
   "metadata": {},
   "source": [
    "Q9. Describe the difference between descriptive and inferential statistics. Give an example of each type of statistics and explain how they are used."
   ]
  },
  {
   "cell_type": "markdown",
   "id": "27276903-a414-4c06-9fe3-8e3021c50359",
   "metadata": {},
   "source": [
    "Solution:"
   ]
  },
  {
   "cell_type": "markdown",
   "id": "861f79c6-fdd7-44c5-9d1c-af8901a65bc0",
   "metadata": {},
   "source": [
    "Descriptive statistics is used to describe the basic features of the data in a study. It provides simple summaries about the sample and the measures. For example, if we want to know the average height of students in a class, we can use descriptive statistics to calculate the mean height of the students.\n",
    "\n",
    "Inferential statistics is used to make predictions or generalizations about a population based on a sample of data. It involves using sample data to infer something about a population. For example, if we want to know the average height of all students in a school, we can use inferential statistics to estimate the population mean height based on a sample of students"
   ]
  },
  {
   "cell_type": "code",
   "execution_count": null,
   "id": "e6255d9e-9a94-4dba-98cf-74eecfc6607d",
   "metadata": {},
   "outputs": [],
   "source": []
  },
  {
   "cell_type": "markdown",
   "id": "a7d5e209-044b-4643-981c-5a3c3a36ca88",
   "metadata": {},
   "source": [
    "Q10. What are some common measures of central tendency and variability used in statistics? Explain how each measure can be used to describe a dataset."
   ]
  },
  {
   "cell_type": "markdown",
   "id": "f9b2027e-7b06-46b7-8332-4b3b69959d13",
   "metadata": {},
   "source": [
    "Solution"
   ]
  },
  {
   "cell_type": "markdown",
   "id": "ecbb65c9-bb84-4b18-9158-305f02630a50",
   "metadata": {},
   "source": [
    "Measures of central tendency are used to describe the center of a dataset. The most common measures of central tendency are the mean, median, and mode. The mean is the average of all the values in a dataset. The median is the middle value in a dataset when the values are arranged in order. The mode is the value that appears most frequently in a dataset.\n",
    "\n",
    "Measures of variability are used to describe how spread out a dataset is. The most common measures of variability are the range, variance, and standard deviation. The range is the difference between the largest and smallest values in a dataset. The variance is the average of the squared differences from the mean. The standard deviation is the square root of the variance."
   ]
  },
  {
   "cell_type": "code",
   "execution_count": null,
   "id": "e6ef27fb-0d98-4329-98fe-a9819ab62ba9",
   "metadata": {},
   "outputs": [],
   "source": []
  }
 ],
 "metadata": {
  "kernelspec": {
   "display_name": "Python 3 (ipykernel)",
   "language": "python",
   "name": "python3"
  },
  "language_info": {
   "codemirror_mode": {
    "name": "ipython",
    "version": 3
   },
   "file_extension": ".py",
   "mimetype": "text/x-python",
   "name": "python",
   "nbconvert_exporter": "python",
   "pygments_lexer": "ipython3",
   "version": "3.10.8"
  }
 },
 "nbformat": 4,
 "nbformat_minor": 5
}
